{
 "cells": [
  {
   "cell_type": "code",
   "execution_count": 5,
   "metadata": {},
   "outputs": [],
   "source": [
    "import pandas as pd\n",
    "import numpy as np"
   ]
  },
  {
   "cell_type": "code",
   "execution_count": 6,
   "metadata": {},
   "outputs": [
    {
     "name": "stdout",
     "output_type": "stream",
     "text": [
      "    BillID    Channel    OrderFrom            TransactionDate  SalesAmount  \\\n",
      "0        0  Take Away  CALL CENTER  2021-10-01 00:00:00+00:00       296891   \n",
      "1        1  Take Away        STORE  2021-10-01 00:00:00+00:00       301782   \n",
      "2        2  Take Away      WEBSITE  2021-10-01 00:00:00+00:00       319792   \n",
      "3        3  Take Away        STORE  2021-10-01 00:00:00+00:00       424762   \n",
      "4        4   Delivery        STORE  2021-10-01 00:00:00+00:00       280031   \n",
      "5        5  Take Away        STORE  2021-10-01 00:00:00+00:00       281419   \n",
      "6        6  Take Away        STORE  2021-10-01 00:00:00+00:00       191624   \n",
      "7        7  Take Away        STORE  2021-10-01 00:00:00+00:00       201069   \n",
      "8        8  Take Away  CALL CENTER  2021-10-01 00:00:00+00:00       301044   \n",
      "9        9  Take Away        STORE  2021-10-01 00:00:00+00:00        82851   \n",
      "10      10  Take Away  CALL CENTER  2021-10-01 00:00:00+00:00       157619   \n",
      "11      11  Take Away        STORE  2021-10-01 00:00:00+00:00       439104   \n",
      "12      12   Delivery  CALL CENTER  2021-10-01 00:00:00+00:00       252338   \n",
      "13      13   Delivery        STORE  2021-10-01 00:00:00+00:00       219279   \n",
      "14      14  Take Away        STORE  2021-10-01 00:00:00+00:00       210000   \n",
      "15      15   Delivery  CALL CENTER  2021-10-01 00:00:00+00:00       308822   \n",
      "16      16  Take Away  CALL CENTER  2021-10-01 00:00:00+00:00       306480   \n",
      "17      17  Take Away  CALL CENTER  2021-10-01 00:00:00+00:00       155712   \n",
      "18      18   Delivery      WEBSITE  2021-10-01 00:00:00+00:00       188039   \n",
      "19      19  Take Away        STORE  2021-10-01 00:00:00+00:00       233488   \n",
      "20      20   Delivery  CALL CENTER  2021-10-01 00:00:00+00:00       280413   \n",
      "21      21   Delivery        STORE  2021-10-01 00:00:00+00:00       175264   \n",
      "22      22   Delivery      WEBSITE  2021-10-01 00:00:00+00:00       233634   \n",
      "23      23  Take Away        STORE  2021-10-01 00:00:00+00:00       149647   \n",
      "24      24  Take Away      WEBSITE  2021-10-01 00:00:00+00:00      1030228   \n",
      "25      25  Take Away        STORE  2021-10-01 00:00:00+00:00       378213   \n",
      "26      26   Delivery  CALL CENTER  2021-10-01 00:00:00+00:00       149514   \n",
      "27      27  Take Away        STORE  2021-10-01 00:00:00+00:00       249776   \n",
      "28      28   Delivery        STORE  2021-10-01 00:00:00+00:00       316495   \n",
      "29      29  Take Away        STORE  2021-10-01 00:00:00+00:00       734632   \n",
      "30      30   Delivery  CALL CENTER  2021-10-01 00:00:00+00:00       174715   \n",
      "31      31  Take Away        STORE  2021-10-01 00:00:00+00:00       136478   \n",
      "32      32  Take Away        STORE  2021-10-01 00:00:00+00:00       240515   \n",
      "33      33    Dine In        STORE  2021-10-01 00:00:00+00:00       286465   \n",
      "34      34  Take Away        STORE  2021-10-01 00:00:00+00:00       165276   \n",
      "35      35  Take Away        STORE  2021-10-01 00:00:00+00:00       238178   \n",
      "36      36  Take Away        STORE  2021-10-01 00:00:00+00:00       127076   \n",
      "37      37  Take Away        STORE  2021-10-01 00:00:00+00:00        86699   \n",
      "38      38   Delivery        STORE  2021-10-01 00:00:00+00:00       279491   \n",
      "39      39  Take Away        STORE  2021-10-01 00:00:00+00:00       773730   \n",
      "40      40  Take Away        STORE  2021-10-01 00:00:00+00:00       332410   \n",
      "41      41  Take Away  CALL CENTER  2021-10-01 00:00:00+00:00       152032   \n",
      "42      42   Delivery        STORE  2021-10-01 00:00:00+00:00       152838   \n",
      "43      43  Take Away        STORE  2021-10-01 00:00:00+00:00        83868   \n",
      "44      44   Delivery        STORE  2021-10-01 00:00:00+00:00      2319205   \n",
      "45      45  Take Away        STORE  2021-10-01 00:00:00+00:00        31104   \n",
      "46      46   Delivery  CALL CENTER  2021-10-01 00:00:00+00:00       227561   \n",
      "47      47  Take Away        STORE  2021-10-01 00:00:00+00:00       347903   \n",
      "48      48  Take Away        STORE  2021-10-01 00:00:00+00:00      1042215   \n",
      "49      49   Delivery  CALL CENTER  2021-10-01 00:00:00+00:00       285916   \n",
      "\n",
      "    CustomerID CustomerGender VoucherStatus            Province  \n",
      "0      1753863        Unknown            No    Ho Chi Minh City  \n",
      "1      1124050        Unknown            No               Hanoi  \n",
      "2      1626827           Male            No               Hanoi  \n",
      "3       125643           Male            No               Hanoi  \n",
      "4      2117237        Unknown            No               Hanoi  \n",
      "5      1954725        Unknown            No   Nothern Provinces  \n",
      "6      2097093        Unknown            No               Hanoi  \n",
      "7       602645        Unknown            No  Southern Provinces  \n",
      "8      1223148        Unknown            No   Nothern Provinces  \n",
      "9        86157        Unknown            No  Southern Provinces  \n",
      "10     1448797           Male            No               Hanoi  \n",
      "11      433624        Unknown            No               Hanoi  \n",
      "12      968729        Unknown            No  Southern Provinces  \n",
      "13      775879           Male            No               Hanoi  \n",
      "14     1707327           Male            No               Hanoi  \n",
      "15      970071        Unknown            No  Southern Provinces  \n",
      "16     1717798         Female            No    Ho Chi Minh City  \n",
      "17     1352901        Unknown            No               Hanoi  \n",
      "18      556189         Female            No               Hanoi  \n",
      "19     1958468        Unknown            No               Hanoi  \n",
      "20     2026236        Unknown            No               Hanoi  \n",
      "21     1433803         Female            No               Hanoi  \n",
      "22     1640675        Unknown           Yes               Hanoi  \n",
      "23      899421        Unknown            No               Hanoi  \n",
      "24     1635929        Unknown            No  Southern Provinces  \n",
      "25     1148137        Unknown            No               Hanoi  \n",
      "26      768778           Male            No               Hanoi  \n",
      "27      351254        Unknown            No               Hanoi  \n",
      "28      785638        Unknown            No               Hanoi  \n",
      "29      248918           Male            No               Hanoi  \n",
      "30      781193        Unknown            No  Southern Provinces  \n",
      "31     1639341        Unknown            No   Nothern Provinces  \n",
      "32      767230        Unknown            No  Southern Provinces  \n",
      "33      795710         Female            No   Nothern Provinces  \n",
      "34     1870089           Male            No  Southern Provinces  \n",
      "35      332919           Male            No               Hanoi  \n",
      "36     1127588        Unknown            No   Nothern Provinces  \n",
      "37     2029494         Female            No               Hanoi  \n",
      "38     1414527           Male            No               Hanoi  \n",
      "39     1620418           Male            No  Southern Provinces  \n",
      "40      157717           Male            No               Hanoi  \n",
      "41     2115283           Male            No    Ho Chi Minh City  \n",
      "42      348314        Unknown            No               Hanoi  \n",
      "43     1849810        Unknown            No               Hanoi  \n",
      "44     1362353         Female            No               Hanoi  \n",
      "45     2071800        Unknown            No  Southern Provinces  \n",
      "46      233098         Female            No               Hanoi  \n",
      "47      705546        Unknown            No   Nothern Provinces  \n",
      "48      986858         Female            No  Southern Provinces  \n",
      "49     1883549        Unknown            No   Nothern Provinces  \n"
     ]
    }
   ],
   "source": [
    "df = pd.read_excel('Dataset Pizahut.xlsx', sheet_name='Purchasing data')\n",
    "print(df.head(50))"
   ]
  },
  {
   "cell_type": "code",
   "execution_count": 36,
   "metadata": {},
   "outputs": [
    {
     "name": "stdout",
     "output_type": "stream",
     "text": [
      "    CustomerID TransactionDate  SalesAmount  Total Sale  Last Order ReportDate\n",
      "0      1753863      2021-10-01       296891     1506161  2022-02-06 2023-01-10\n",
      "1      1124050      2021-10-01       301782     1183064  2022-01-26 2023-01-10\n",
      "2      1626827      2021-10-01       319792      993004  2022-09-15 2023-01-10\n",
      "3       125643      2021-10-01       424762     9923370  2022-12-09 2023-01-10\n",
      "4      2117237      2021-10-01       280031     4058641  2022-10-23 2023-01-10\n",
      "5      1954725      2021-10-01       281419      281419  2021-10-01 2023-01-10\n",
      "6      2097093      2021-10-01       191624     2373841  2022-12-31 2023-01-10\n",
      "7       602645      2021-10-01       201069      201069  2021-10-01 2023-01-10\n",
      "8      1223148      2021-10-01       301044     1877960  2022-08-22 2023-01-10\n",
      "9        86157      2021-10-01        82851       82851  2021-10-01 2023-01-10\n",
      "10     1448797      2021-10-01       157619     1509047  2023-01-08 2023-01-10\n",
      "11      433624      2021-10-01       439104      439104  2021-10-01 2023-01-10\n",
      "12      968729      2021-10-01       252338      252338  2021-10-01 2023-01-10\n",
      "13      775879      2021-10-01       219279     1773700  2022-11-12 2023-01-10\n",
      "14     1707327      2021-10-01       210000     1200746  2022-09-19 2023-01-10\n",
      "15      970071      2021-10-01       308822      637653  2022-07-09 2023-01-10\n",
      "16     1717798      2021-10-01       306480     4360440  2022-10-14 2023-01-10\n",
      "17     1352901      2021-10-01       155712      155712  2021-10-01 2023-01-10\n",
      "18      556189      2021-10-01       188039     2043864  2022-06-02 2023-01-10\n",
      "19     1958468      2021-10-01       233488      703798  2022-02-06 2023-01-10\n",
      "20     2026236      2021-10-01       280413      912470  2022-06-12 2023-01-10\n",
      "21     1433803      2021-10-01       175264      761953  2021-12-29 2023-01-10\n",
      "22     1640675      2021-10-01       233634      233634  2021-10-01 2023-01-10\n",
      "23      899421      2021-10-01       149647      841273  2022-01-30 2023-01-10\n",
      "24     1635929      2021-10-01      1030228     1030228  2021-10-01 2023-01-10\n",
      "25     1148137      2021-10-01       378213      378213  2021-10-01 2023-01-10\n",
      "26      768778      2021-10-01       149514     6619233  2022-12-18 2023-01-10\n",
      "27      351254      2021-10-01       249776      249776  2021-10-01 2023-01-10\n",
      "28      785638      2021-10-01       316495      316495  2021-10-01 2023-01-10\n",
      "29      248918      2021-10-01       734632     6452439  2023-01-02 2023-01-10\n",
      "30      781193      2021-10-01       174715     1048724  2021-10-28 2023-01-10\n",
      "31     1639341      2021-10-01       136478      136478  2021-10-01 2023-01-10\n",
      "32      767230      2021-10-01       240515      240515  2021-10-01 2023-01-10\n",
      "33      795710      2021-10-01       286465     3133945  2022-12-30 2023-01-10\n",
      "34     1870089      2021-10-01       165276      537537  2022-05-27 2023-01-10\n",
      "35      332919      2021-10-01       238178      238178  2021-10-01 2023-01-10\n",
      "36     1127588      2021-10-01       127076      127076  2021-10-01 2023-01-10\n",
      "37     2029494      2021-10-01        86699     1137377  2022-05-03 2023-01-10\n",
      "38     1414527      2021-10-01       279491     3975307  2022-12-19 2023-01-10\n",
      "39     1620418      2021-10-01       773730     1225563  2021-10-31 2023-01-10\n",
      "40      157717      2021-10-01       332410     2826516  2022-10-29 2023-01-10\n",
      "41     2115283      2021-10-01       152032     1436594  2022-06-01 2023-01-10\n",
      "42      348314      2021-10-01       152838      152838  2021-10-01 2023-01-10\n",
      "43     1849810      2021-10-01        83868      228910  2022-02-10 2023-01-10\n",
      "44     1362353      2021-10-01      2319205     7619432  2021-10-01 2023-01-10\n",
      "45     2071800      2021-10-01        31104      396646  2022-11-01 2023-01-10\n",
      "46      233098      2021-10-01       227561     5584042  2023-01-01 2023-01-10\n",
      "47      705546      2021-10-01       347903     1234466  2022-08-02 2023-01-10\n",
      "48      986858      2021-10-01      1042215     6554060  2022-12-11 2023-01-10\n",
      "49     1883549      2021-10-01       285916      285916  2021-10-01 2023-01-10\n"
     ]
    }
   ],
   "source": [
    "# Get data needed for analysis\n",
    "df = df.loc[:, ['CustomerID', 'TransactionDate', 'SalesAmount']]\n",
    "\n",
    "# Calculate the total revenue of each customer\n",
    "df['Total Sale'] = df.groupby('CustomerID')['SalesAmount'].transform('sum')\n",
    "\n",
    "#Take out the last order of each customer \n",
    "df['Last Order'] = df.groupby('CustomerID')['TransactionDate'].transform('max')\n",
    "\n",
    "#Transform last order day \n",
    "df['Last Order'] = pd.to_datetime(df['Last Order'])\n",
    "df['Last Order'] = pd.to_datetime(df['Last Order']).dt.strftime('%Y-%m-%d')\n",
    "\n",
    "# Calculate the transaction date\n",
    "df['TransactionDate'] = pd.to_datetime(df['TransactionDate'])\n",
    "df['TransactionDate'] = df['TransactionDate'].dt.strftime('%Y-%m-%d')\n",
    "df['TransactionDate'] = pd.to_datetime(df['TransactionDate']).dt.strftime('%Y-%m-%d')\n",
    "\n",
    "# Create report date\n",
    "df['ReportDate'] = '2023-01-10'\n",
    "df['ReportDate'] = pd.to_datetime(df['ReportDate'])\n",
    "\n",
    "print(df.head(50))"
   ]
  },
  {
   "cell_type": "markdown",
   "metadata": {},
   "source": [
    "Calculate Recency"
   ]
  },
  {
   "cell_type": "code",
   "execution_count": 37,
   "metadata": {},
   "outputs": [
    {
     "name": "stdout",
     "output_type": "stream",
     "text": [
      "0          338\n",
      "1          349\n",
      "2          117\n",
      "3           32\n",
      "4           79\n",
      "          ... \n",
      "1048570      1\n",
      "1048571      1\n",
      "1048572      1\n",
      "1048573      1\n",
      "1048574      1\n",
      "Name: Recency, Length: 1048575, dtype: int64\n"
     ]
    }
   ],
   "source": [
    "# Ensure 'Last Order' is a datetime column\n",
    "df['Last Order'] = pd.to_datetime(df['Last Order'])\n",
    "\n",
    "# Ensure 'ReportDate' is a datetime column\n",
    "df['ReportDate'] = pd.to_datetime(df['ReportDate'])\n",
    "\n",
    "# Calculate the Recency\n",
    "df['Recency'] = (df['ReportDate'] - df['Last Order']).dt.days\n",
    "print(df['Recency'])\n",
    "\n",
    "\n"
   ]
  },
  {
   "cell_type": "code",
   "execution_count": 38,
   "metadata": {},
   "outputs": [
    {
     "data": {
      "text/plain": [
       "count    1.048575e+06\n",
       "mean     1.704711e+02\n",
       "std      1.348822e+02\n",
       "min      1.000000e+00\n",
       "25%      4.700000e+01\n",
       "50%      1.430000e+02\n",
       "75%      2.780000e+02\n",
       "max      4.660000e+02\n",
       "Name: Recency, dtype: float64"
      ]
     },
     "execution_count": 38,
     "metadata": {},
     "output_type": "execute_result"
    }
   ],
   "source": [
    "df['Recency'].describe()"
   ]
  },
  {
   "cell_type": "code",
   "execution_count": 41,
   "metadata": {},
   "outputs": [
    {
     "name": "stdout",
     "output_type": "stream",
     "text": [
      "0          3\n",
      "1          3\n",
      "2          4\n",
      "3          1\n",
      "4          4\n",
      "          ..\n",
      "1048570    1\n",
      "1048571    1\n",
      "1048572    1\n",
      "1048573    1\n",
      "1048574    1\n",
      "Name: R, Length: 1048575, dtype: int64\n"
     ]
    }
   ],
   "source": [
    "df['R'] = df['Recency'].apply(lambda x: 1 if x <= 47 else(2 if x>143 and x<=278 else(3 if x>278 and x<=466 else 4)))\n",
    "print(df['R'])"
   ]
  },
  {
   "cell_type": "markdown",
   "metadata": {},
   "source": [
    "Calculate Frequency"
   ]
  },
  {
   "cell_type": "code",
   "execution_count": 48,
   "metadata": {},
   "outputs": [],
   "source": [
    "df['Frequency'] = df.groupby('CustomerID')['TransactionDate'].rank(method='dense', ascending=True)\n",
    "df['Max Frequency'] = df.groupby('CustomerID')['Frequency'].transform('max')\n",
    "df['Frequency'] = pd.to_numeric(df['Frequency']).astype('int')"
   ]
  },
  {
   "cell_type": "code",
   "execution_count": 49,
   "metadata": {},
   "outputs": [
    {
     "data": {
      "text/plain": [
       "count    1.048575e+06\n",
       "mean     2.746682e+00\n",
       "std      4.436661e+00\n",
       "min      1.000000e+00\n",
       "25%      1.000000e+00\n",
       "50%      1.000000e+00\n",
       "75%      3.000000e+00\n",
       "max      1.810000e+02\n",
       "Name: Frequency, dtype: float64"
      ]
     },
     "execution_count": 49,
     "metadata": {},
     "output_type": "execute_result"
    }
   ],
   "source": [
    "df['Frequency'].describe()"
   ]
  },
  {
   "cell_type": "code",
   "execution_count": 51,
   "metadata": {},
   "outputs": [
    {
     "name": "stdout",
     "output_type": "stream",
     "text": [
      "181\n"
     ]
    }
   ],
   "source": [
    "max_frequency = df['Frequency'].max()\n",
    "print(max_frequency)\n",
    "#181 maybe the outlier so we define max frequency is 4"
   ]
  },
  {
   "cell_type": "code",
   "execution_count": 70,
   "metadata": {},
   "outputs": [],
   "source": [
    "df['F'] = df['Frequency'].apply(lambda x: 1 if x <= 2 else(2 if x>2 and x<=3 else(3 if x>3 and x<=181 else 4)))"
   ]
  },
  {
   "cell_type": "code",
   "execution_count": 53,
   "metadata": {},
   "outputs": [
    {
     "name": "stdout",
     "output_type": "stream",
     "text": [
      "0          1\n",
      "1          1\n",
      "2          1\n",
      "3          1\n",
      "4          1\n",
      "          ..\n",
      "1048570    1\n",
      "1048571    4\n",
      "1048572    2\n",
      "1048573    1\n",
      "1048574    4\n",
      "Name: F, Length: 1048575, dtype: int64\n"
     ]
    }
   ],
   "source": [
    "print(df['F'])"
   ]
  },
  {
   "cell_type": "markdown",
   "metadata": {},
   "source": [
    "Calculate the Moneytary\n"
   ]
  },
  {
   "cell_type": "code",
   "execution_count": 69,
   "metadata": {},
   "outputs": [
    {
     "name": "stdout",
     "output_type": "stream",
     "text": [
      "0          1506161\n",
      "1          1183064\n",
      "2           993004\n",
      "3          9923370\n",
      "4          4058641\n",
      "            ...   \n",
      "1048570     178107\n",
      "1048571    1889312\n",
      "1048572    1119060\n",
      "1048573     797890\n",
      "1048574    3113654\n",
      "Name: Total Sale, Length: 1048575, dtype: int64\n"
     ]
    }
   ],
   "source": [
    "print(df['Total Sale'])"
   ]
  },
  {
   "cell_type": "code",
   "execution_count": 68,
   "metadata": {},
   "outputs": [
    {
     "data": {
      "text/plain": [
       "count    1.048575e+06\n",
       "mean     1.357587e+06\n",
       "std      2.521858e+06\n",
       "min      7.148000e+03\n",
       "25%      2.790525e+05\n",
       "50%      6.194030e+05\n",
       "75%      1.548363e+06\n",
       "max      1.337745e+08\n",
       "Name: Total Sale, dtype: float64"
      ]
     },
     "execution_count": 68,
     "metadata": {},
     "output_type": "execute_result"
    }
   ],
   "source": [
    "df['Total Sale'].describe()"
   ]
  },
  {
   "cell_type": "code",
   "execution_count": 71,
   "metadata": {},
   "outputs": [],
   "source": [
    "df['M'] = df['Total Sale'].apply(lambda x: 1 if x <= 7148 else(2 if x> 279052 and x<= 619403 else(3 if x>619403 and x<=1548363 else 4)))"
   ]
  },
  {
   "cell_type": "code",
   "execution_count": 72,
   "metadata": {},
   "outputs": [
    {
     "name": "stdout",
     "output_type": "stream",
     "text": [
      "[0          3\n",
      "1          3\n",
      "2          3\n",
      "3          4\n",
      "4          4\n",
      "          ..\n",
      "1048570    4\n",
      "1048571    4\n",
      "1048572    3\n",
      "1048573    3\n",
      "1048574    4\n",
      "Name: M, Length: 1048575, dtype: int64]\n"
     ]
    }
   ],
   "source": [
    "print([df['M']])"
   ]
  },
  {
   "cell_type": "markdown",
   "metadata": {},
   "source": [
    "Calculate RFM\n"
   ]
  },
  {
   "cell_type": "code",
   "execution_count": 73,
   "metadata": {},
   "outputs": [],
   "source": [
    "df['RFM'] = df['R'].astype(str) + df['F'].astype(str) + df['M'].astype(str)\n"
   ]
  },
  {
   "cell_type": "code",
   "execution_count": 74,
   "metadata": {},
   "outputs": [
    {
     "data": {
      "text/html": [
       "<div>\n",
       "<style scoped>\n",
       "    .dataframe tbody tr th:only-of-type {\n",
       "        vertical-align: middle;\n",
       "    }\n",
       "\n",
       "    .dataframe tbody tr th {\n",
       "        vertical-align: top;\n",
       "    }\n",
       "\n",
       "    .dataframe thead th {\n",
       "        text-align: right;\n",
       "    }\n",
       "</style>\n",
       "<table border=\"1\" class=\"dataframe\">\n",
       "  <thead>\n",
       "    <tr style=\"text-align: right;\">\n",
       "      <th></th>\n",
       "      <th>CustomerID</th>\n",
       "      <th>TransactionDate</th>\n",
       "      <th>SalesAmount</th>\n",
       "      <th>Total Sale</th>\n",
       "      <th>Last Order</th>\n",
       "      <th>ReportDate</th>\n",
       "      <th>Recency</th>\n",
       "      <th>R</th>\n",
       "      <th>Frequency</th>\n",
       "      <th>Max Frequency</th>\n",
       "      <th>F</th>\n",
       "      <th>M</th>\n",
       "      <th>RFM</th>\n",
       "    </tr>\n",
       "  </thead>\n",
       "  <tbody>\n",
       "    <tr>\n",
       "      <th>0</th>\n",
       "      <td>1753863</td>\n",
       "      <td>2021-10-01</td>\n",
       "      <td>296891</td>\n",
       "      <td>1506161</td>\n",
       "      <td>2022-02-06</td>\n",
       "      <td>2023-01-10</td>\n",
       "      <td>338</td>\n",
       "      <td>3</td>\n",
       "      <td>1</td>\n",
       "      <td>3.0</td>\n",
       "      <td>1</td>\n",
       "      <td>3</td>\n",
       "      <td>313</td>\n",
       "    </tr>\n",
       "    <tr>\n",
       "      <th>1</th>\n",
       "      <td>1124050</td>\n",
       "      <td>2021-10-01</td>\n",
       "      <td>301782</td>\n",
       "      <td>1183064</td>\n",
       "      <td>2022-01-26</td>\n",
       "      <td>2023-01-10</td>\n",
       "      <td>349</td>\n",
       "      <td>3</td>\n",
       "      <td>1</td>\n",
       "      <td>3.0</td>\n",
       "      <td>1</td>\n",
       "      <td>3</td>\n",
       "      <td>313</td>\n",
       "    </tr>\n",
       "    <tr>\n",
       "      <th>2</th>\n",
       "      <td>1626827</td>\n",
       "      <td>2021-10-01</td>\n",
       "      <td>319792</td>\n",
       "      <td>993004</td>\n",
       "      <td>2022-09-15</td>\n",
       "      <td>2023-01-10</td>\n",
       "      <td>117</td>\n",
       "      <td>4</td>\n",
       "      <td>1</td>\n",
       "      <td>5.0</td>\n",
       "      <td>1</td>\n",
       "      <td>3</td>\n",
       "      <td>413</td>\n",
       "    </tr>\n",
       "    <tr>\n",
       "      <th>3</th>\n",
       "      <td>125643</td>\n",
       "      <td>2021-10-01</td>\n",
       "      <td>424762</td>\n",
       "      <td>9923370</td>\n",
       "      <td>2022-12-09</td>\n",
       "      <td>2023-01-10</td>\n",
       "      <td>32</td>\n",
       "      <td>1</td>\n",
       "      <td>1</td>\n",
       "      <td>47.0</td>\n",
       "      <td>1</td>\n",
       "      <td>4</td>\n",
       "      <td>114</td>\n",
       "    </tr>\n",
       "    <tr>\n",
       "      <th>4</th>\n",
       "      <td>2117237</td>\n",
       "      <td>2021-10-01</td>\n",
       "      <td>280031</td>\n",
       "      <td>4058641</td>\n",
       "      <td>2022-10-23</td>\n",
       "      <td>2023-01-10</td>\n",
       "      <td>79</td>\n",
       "      <td>4</td>\n",
       "      <td>1</td>\n",
       "      <td>16.0</td>\n",
       "      <td>1</td>\n",
       "      <td>4</td>\n",
       "      <td>414</td>\n",
       "    </tr>\n",
       "    <tr>\n",
       "      <th>...</th>\n",
       "      <td>...</td>\n",
       "      <td>...</td>\n",
       "      <td>...</td>\n",
       "      <td>...</td>\n",
       "      <td>...</td>\n",
       "      <td>...</td>\n",
       "      <td>...</td>\n",
       "      <td>...</td>\n",
       "      <td>...</td>\n",
       "      <td>...</td>\n",
       "      <td>...</td>\n",
       "      <td>...</td>\n",
       "      <td>...</td>\n",
       "    </tr>\n",
       "    <tr>\n",
       "      <th>1048570</th>\n",
       "      <td>1398136</td>\n",
       "      <td>2023-01-09</td>\n",
       "      <td>178107</td>\n",
       "      <td>178107</td>\n",
       "      <td>2023-01-09</td>\n",
       "      <td>2023-01-10</td>\n",
       "      <td>1</td>\n",
       "      <td>1</td>\n",
       "      <td>1</td>\n",
       "      <td>1.0</td>\n",
       "      <td>1</td>\n",
       "      <td>4</td>\n",
       "      <td>114</td>\n",
       "    </tr>\n",
       "    <tr>\n",
       "      <th>1048571</th>\n",
       "      <td>2023258</td>\n",
       "      <td>2023-01-09</td>\n",
       "      <td>331447</td>\n",
       "      <td>1889312</td>\n",
       "      <td>2023-01-09</td>\n",
       "      <td>2023-01-10</td>\n",
       "      <td>1</td>\n",
       "      <td>1</td>\n",
       "      <td>8</td>\n",
       "      <td>8.0</td>\n",
       "      <td>3</td>\n",
       "      <td>4</td>\n",
       "      <td>134</td>\n",
       "    </tr>\n",
       "    <tr>\n",
       "      <th>1048572</th>\n",
       "      <td>2041510</td>\n",
       "      <td>2023-01-09</td>\n",
       "      <td>381509</td>\n",
       "      <td>1119060</td>\n",
       "      <td>2023-01-09</td>\n",
       "      <td>2023-01-10</td>\n",
       "      <td>1</td>\n",
       "      <td>1</td>\n",
       "      <td>3</td>\n",
       "      <td>3.0</td>\n",
       "      <td>2</td>\n",
       "      <td>3</td>\n",
       "      <td>123</td>\n",
       "    </tr>\n",
       "    <tr>\n",
       "      <th>1048573</th>\n",
       "      <td>1927215</td>\n",
       "      <td>2023-01-09</td>\n",
       "      <td>508205</td>\n",
       "      <td>797890</td>\n",
       "      <td>2023-01-09</td>\n",
       "      <td>2023-01-10</td>\n",
       "      <td>1</td>\n",
       "      <td>1</td>\n",
       "      <td>2</td>\n",
       "      <td>2.0</td>\n",
       "      <td>1</td>\n",
       "      <td>3</td>\n",
       "      <td>113</td>\n",
       "    </tr>\n",
       "    <tr>\n",
       "      <th>1048574</th>\n",
       "      <td>324317</td>\n",
       "      <td>2023-01-09</td>\n",
       "      <td>349016</td>\n",
       "      <td>3113654</td>\n",
       "      <td>2023-01-09</td>\n",
       "      <td>2023-01-10</td>\n",
       "      <td>1</td>\n",
       "      <td>1</td>\n",
       "      <td>8</td>\n",
       "      <td>8.0</td>\n",
       "      <td>3</td>\n",
       "      <td>4</td>\n",
       "      <td>134</td>\n",
       "    </tr>\n",
       "  </tbody>\n",
       "</table>\n",
       "<p>1048575 rows × 13 columns</p>\n",
       "</div>"
      ],
      "text/plain": [
       "         CustomerID TransactionDate  SalesAmount  Total Sale Last Order  \\\n",
       "0           1753863      2021-10-01       296891     1506161 2022-02-06   \n",
       "1           1124050      2021-10-01       301782     1183064 2022-01-26   \n",
       "2           1626827      2021-10-01       319792      993004 2022-09-15   \n",
       "3            125643      2021-10-01       424762     9923370 2022-12-09   \n",
       "4           2117237      2021-10-01       280031     4058641 2022-10-23   \n",
       "...             ...             ...          ...         ...        ...   \n",
       "1048570     1398136      2023-01-09       178107      178107 2023-01-09   \n",
       "1048571     2023258      2023-01-09       331447     1889312 2023-01-09   \n",
       "1048572     2041510      2023-01-09       381509     1119060 2023-01-09   \n",
       "1048573     1927215      2023-01-09       508205      797890 2023-01-09   \n",
       "1048574      324317      2023-01-09       349016     3113654 2023-01-09   \n",
       "\n",
       "        ReportDate  Recency  R  Frequency  Max Frequency  F  M  RFM  \n",
       "0       2023-01-10      338  3          1            3.0  1  3  313  \n",
       "1       2023-01-10      349  3          1            3.0  1  3  313  \n",
       "2       2023-01-10      117  4          1            5.0  1  3  413  \n",
       "3       2023-01-10       32  1          1           47.0  1  4  114  \n",
       "4       2023-01-10       79  4          1           16.0  1  4  414  \n",
       "...            ...      ... ..        ...            ... .. ..  ...  \n",
       "1048570 2023-01-10        1  1          1            1.0  1  4  114  \n",
       "1048571 2023-01-10        1  1          8            8.0  3  4  134  \n",
       "1048572 2023-01-10        1  1          3            3.0  2  3  123  \n",
       "1048573 2023-01-10        1  1          2            2.0  1  3  113  \n",
       "1048574 2023-01-10        1  1          8            8.0  3  4  134  \n",
       "\n",
       "[1048575 rows x 13 columns]"
      ]
     },
     "execution_count": 74,
     "metadata": {},
     "output_type": "execute_result"
    }
   ],
   "source": [
    "df"
   ]
  }
 ],
 "metadata": {
  "kernelspec": {
   "display_name": "base",
   "language": "python",
   "name": "python3"
  },
  "language_info": {
   "codemirror_mode": {
    "name": "ipython",
    "version": 3
   },
   "file_extension": ".py",
   "mimetype": "text/x-python",
   "name": "python",
   "nbconvert_exporter": "python",
   "pygments_lexer": "ipython3",
   "version": "3.11.5"
  }
 },
 "nbformat": 4,
 "nbformat_minor": 2
}
